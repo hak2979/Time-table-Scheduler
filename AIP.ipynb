{
  "nbformat": 4,
  "nbformat_minor": 0,
  "metadata": {
    "colab": {
      "provenance": []
    },
    "kernelspec": {
      "name": "python3",
      "display_name": "Python 3"
    },
    "language_info": {
      "name": "python"
    }
  },
  "cells": [
    {
      "cell_type": "code",
      "source": [
        "import math\n",
        "import random"
      ],
      "metadata": {
        "id": "b8W_clKlrhYs"
      },
      "execution_count": null,
      "outputs": []
    },
    {
      "cell_type": "code",
      "execution_count": null,
      "metadata": {
        "id": "Q8RMULwcniZi",
        "colab": {
          "base_uri": "https://localhost:8080/"
        },
        "outputId": "4d5b809d-1243-4aad-9a2b-37f5617e09ec"
      },
      "outputs": [
        {
          "output_type": "stream",
          "name": "stdout",
          "text": [
            "4\n"
          ]
        }
      ],
      "source": [
        "#Making Courses and these will be chose randomly\n",
        "Courses=[\"C1\",\"C2\",\"C3\",\n",
        "         \"C4\",\"C5\",\"C6\",\n",
        "         \"C7\",\"C8\",\"C9\"]#Finding how many bits required to represent array\n",
        "Course_len = math.ceil(math.log2(len(Courses)))\n",
        "print(Course_len)"
      ]
    },
    {
      "cell_type": "code",
      "source": [
        "#Making Theory type and also it will be chose randomly\n",
        "Lecture_type=[\"Theory\",\"Lab\"]#Finding how many bits required\n",
        "Lecture_len = math.ceil(math.log2(len(Lecture_type)))\n",
        "print(Lecture_len)"
      ],
      "metadata": {
        "id": "Ec_-Pj-uoKaC",
        "colab": {
          "base_uri": "https://localhost:8080/"
        },
        "outputId": "b0b3fb90-c9d0-4955-ba66-9e7e3003ae16"
      },
      "execution_count": null,
      "outputs": [
        {
          "output_type": "stream",
          "name": "stdout",
          "text": [
            "1\n"
          ]
        }
      ]
    },
    {
      "cell_type": "code",
      "source": [
        "#Making Sections that will study courses\n",
        "Section=[\"S1\",\"S2\",\"S3\",\"S4\"]#Finding how many bits required\n",
        "Section_len = math.ceil(math.log2(len(Section)))\n",
        "print(Section_len)"
      ],
      "metadata": {
        "id": "ukbB1rEaoTmO",
        "colab": {
          "base_uri": "https://localhost:8080/"
        },
        "outputId": "d084fe45-c870-4126-9724-55c560fc3d70"
      },
      "execution_count": null,
      "outputs": [
        {
          "output_type": "stream",
          "name": "stdout",
          "text": [
            "2\n"
          ]
        }
      ]
    },
    {
      "cell_type": "code",
      "source": [
        "#Few random strength\n",
        "Section_Strength=[25,35,40,60,100]\n",
        "Section_Streng_len = math.ceil(math.log2(len(Section_Strength)))\n",
        "print(Section_Streng_len)"
      ],
      "metadata": {
        "id": "UCwEmocsoYNj",
        "colab": {
          "base_uri": "https://localhost:8080/"
        },
        "outputId": "3df78907-e0bd-4523-b239-d5aecf7d0524"
      },
      "execution_count": null,
      "outputs": [
        {
          "output_type": "stream",
          "name": "stdout",
          "text": [
            "3\n"
          ]
        }
      ]
    },
    {
      "cell_type": "code",
      "source": [
        "Professor=[\"P1\",\"P2\",\"P3\",\n",
        "           \"P4\",\"P5\",\"P6\",\n",
        "           \"P7\",\"P8\",\"P9\"]\n",
        "Professor_len = math.ceil(math.log2(len(Professor)))\n",
        "print(Professor_len)"
      ],
      "metadata": {
        "id": "5pXvQWYfoejt",
        "colab": {
          "base_uri": "https://localhost:8080/"
        },
        "outputId": "021926c1-262f-4a25-cf14-e85ef9012300"
      },
      "execution_count": null,
      "outputs": [
        {
          "output_type": "stream",
          "name": "stdout",
          "text": [
            "4\n"
          ]
        }
      ]
    },
    {
      "cell_type": "code",
      "source": [
        "Days=[\"Mon\",\"Tue\",\"Wed\",\"Thur\",\"Fri\"]\n",
        "Days_len = math.ceil(math.log2(len(Days)))\n",
        "print(Days_len)"
      ],
      "metadata": {
        "id": "2lAZc6xoomPT",
        "colab": {
          "base_uri": "https://localhost:8080/"
        },
        "outputId": "93aeefb6-9fd8-4dba-a07d-a9ffa95e5414"
      },
      "execution_count": null,
      "outputs": [
        {
          "output_type": "stream",
          "name": "stdout",
          "text": [
            "3\n"
          ]
        }
      ]
    },
    {
      "cell_type": "code",
      "source": [
        "TimeSlots=[\"8:30-9:50\",\"10:00-11:20\",\"11:30-12:50\",\"1:00-2:20\",\n",
        "           \"2:30-3:50\",\"4:00-5:20\"]\n",
        "Timeslot_len = math.ceil(math.log2(len(TimeSlots)))\n",
        "print(Timeslot_len)"
      ],
      "metadata": {
        "id": "MJFWrHnZotrF",
        "colab": {
          "base_uri": "https://localhost:8080/"
        },
        "outputId": "5158c3aa-4ec5-4124-f457-3af0c65fd1d5"
      },
      "execution_count": null,
      "outputs": [
        {
          "output_type": "stream",
          "name": "stdout",
          "text": [
            "3\n"
          ]
        }
      ]
    },
    {
      "cell_type": "code",
      "source": [
        "Room=[\"A1\",\"A2\",\"A3\",\n",
        "      \"A4\",\"A5\",\"A6\",\n",
        "      \"A7\",\"A8\",\"A9\"]\n",
        "Room_len = math.ceil(math.log2(len(Room)))\n",
        "print(Room_len)"
      ],
      "metadata": {
        "id": "cjXzyu7q12E4",
        "colab": {
          "base_uri": "https://localhost:8080/"
        },
        "outputId": "f2e8ccc8-e9dd-4c56-dddb-4446320f8f6a"
      },
      "execution_count": null,
      "outputs": [
        {
          "output_type": "stream",
          "name": "stdout",
          "text": [
            "4\n"
          ]
        }
      ]
    },
    {
      "cell_type": "code",
      "source": [
        "Room_size=[60,120]\n",
        "Room_siz_len = math.ceil(math.log2(len(Room_size)))\n",
        "print(Room_siz_len)"
      ],
      "metadata": {
        "id": "PB345EospVej",
        "colab": {
          "base_uri": "https://localhost:8080/"
        },
        "outputId": "61e0c92f-7df9-429c-808a-ee55514f124e"
      },
      "execution_count": null,
      "outputs": [
        {
          "output_type": "stream",
          "name": "stdout",
          "text": [
            "1\n"
          ]
        }
      ]
    },
    {
      "cell_type": "code",
      "source": [
        "#Basically it will decode the bin array and divide its bits into these meaningful var\n",
        "class Time_schedule:\n",
        "  def __init__(self,Course,type_a,Section,Section_Strength,Professor,FirstLecture_day,FirstLecture_timeslot,FirstLecture_room,FirstLecture_size,SeconedLecture_day,\n",
        "               SeconedLecture_timeslot,SeconedLecture_room,SeconedLecture_size):\n",
        "    self.Course=Course\n",
        "    self.Typea=type_a\n",
        "    self.Section=Section\n",
        "    self.Section_Strength=Section_Strength\n",
        "    self.Professor=Professor\n",
        "    self.FirstLecture_day=FirstLecture_day\n",
        "    self.FirstLecture_timeslot=FirstLecture_timeslot\n",
        "    self.FirstLecture_room=FirstLecture_room\n",
        "    self.FirstLecture_size=FirstLecture_size\n",
        "    self.SeconedLecture_day=SeconedLecture_day\n",
        "    self.SeconedLecture_timeslot=SeconedLecture_timeslot\n",
        "    self.SeconedLecture_room=SeconedLecture_room\n",
        "    self.SeconedLecture_size=SeconedLecture_size"
      ],
      "metadata": {
        "id": "R_o7IOzLMXSI"
      },
      "execution_count": null,
      "outputs": []
    },
    {
      "cell_type": "code",
      "source": [
        "#It will decode the bin string and return class\n",
        "def decode_timetable(gene):\n",
        "    decoded_timetable = []\n",
        "    for course_schedule in gene:\n",
        "        decoded_course_schedule = []\n",
        "        decoded_schedule = decode_schedule(course_schedule)\n",
        "        decoded_course_schedule.append(decoded_schedule)\n",
        "        decoded_timetable.append(decoded_course_schedule)\n",
        "    return decoded_timetable\n",
        "\n",
        "# Define function to decode each schedule\n",
        "def decode_schedule(schedule):\n",
        "    course_a=decode_course(schedule[:Course_len])\n",
        "    type_a=decode_lecture_type(schedule[Course_len:Course_len+Lecture_len])\n",
        "    section_a=decode_section(schedule[Course_len+Lecture_len:Course_len+Lecture_len+Section_len])\n",
        "    strength_a=decode_section_str(schedule[Course_len+Lecture_len+Section_len:Course_len+Lecture_len+Section_len+Section_Streng_len])\n",
        "    professor_a=decode_professor(schedule[Course_len+Lecture_len+Section_len+Section_Streng_len:Course_len+Lecture_len+Section_len+Section_Streng_len+Professor_len])\n",
        "    day1_a=decode_day(schedule[Course_len+Lecture_len+Section_len+Section_Streng_len+Professor_len:Course_len+Lecture_len+Section_len+Section_Streng_len+Professor_len+Days_len])\n",
        "    timeslot1_a=decode_timeslot(schedule[Course_len+Lecture_len+Section_len+Section_Streng_len+Professor_len+Days_len:Course_len+Lecture_len+Section_len+Section_Streng_len+Professor_len+Days_len+Timeslot_len])\n",
        "    room1_a=decode_room(schedule[Course_len+Lecture_len+Section_len+Section_Streng_len+Professor_len+Days_len+Timeslot_len:Course_len+Lecture_len+Section_len+Section_Streng_len+Professor_len+Days_len+Timeslot_len+Room_len])\n",
        "    room1_len_a=decode_room_size(schedule[Course_len+Lecture_len+Section_len+Section_Streng_len+Professor_len+Days_len+Timeslot_len+Room_len:Course_len+Lecture_len+Section_len+Section_Streng_len+Professor_len+Days_len+Timeslot_len+Room_len+Room_siz_len])\n",
        "    day2_a=decode_day(schedule[Course_len+Lecture_len+Section_len+Section_Streng_len+Professor_len+Days_len+Timeslot_len+Room_len+Room_siz_len:Course_len+Lecture_len+Section_len+Section_Streng_len+Professor_len+Days_len+Timeslot_len+Room_len+Room_siz_len+Days_len])\n",
        "    time2_a=decode_timeslot(schedule[Course_len+Lecture_len+Section_len+Section_Streng_len+Professor_len+Days_len+Timeslot_len+Room_len+Room_siz_len+Days_len:Course_len+Lecture_len+Section_len+Section_Streng_len+Professor_len+Days_len+Timeslot_len+Room_len+Room_siz_len+Days_len+Timeslot_len])\n",
        "    room2_a=decode_room(schedule[Course_len+Lecture_len+Section_len+Section_Streng_len+Professor_len+Days_len+Timeslot_len+Room_len+Room_siz_len+Days_len+Timeslot_len:Course_len+Lecture_len+Section_len+Section_Streng_len+Professor_len+Days_len+Timeslot_len+Room_len+Room_siz_len+Days_len+Timeslot_len+Room_len])\n",
        "    room2_len_a=decode_room_size(schedule[Course_len+Lecture_len+Section_len+Section_Streng_len+Professor_len+Days_len+Timeslot_len+Room_len+Room_siz_len+Days_len+Timeslot_len+Room_len:Course_len+Lecture_len+Section_len+Section_Streng_len+Professor_len+Days_len+Timeslot_len+Room_len+Room_siz_len+Days_len+Timeslot_len+Room_len+Room_siz_len])\n",
        "    return Time_schedule(course_a, type_a, section_a, strength_a, professor_a, day1_a, timeslot1_a,\n",
        "                         room1_a, room1_len_a, day2_a, time2_a,\n",
        "                         room2_a, room2_len_a)\n",
        "\n",
        "# Define functions to decode each component from binary bits\n",
        "def decode_course(bits):\n",
        "    x=int(''.join(map(str, bits)), 2)\n",
        "    if x>=len(Courses):\n",
        "      x=len(Courses)-1\n",
        "    return Courses[x]\n",
        "\n",
        "def decode_lecture_type(bits):\n",
        "    x=int(''.join(map(str, bits)), 2)\n",
        "    if x>=len(Lecture_type):\n",
        "      x=len(Lecture_type)-1\n",
        "    return Lecture_type[x]\n",
        "\n",
        "def decode_section(bits):\n",
        "    x=int(''.join(map(str, bits)), 2)\n",
        "    if x>=len(Section):\n",
        "      x=len(Section)-1\n",
        "    return Section[x]\n",
        "\n",
        "def decode_section_str(bits):\n",
        "    x=int(''.join(map(str, bits)), 2)\n",
        "    if x>=len(Section_Strength):\n",
        "      x=len(Section_Strength)-1\n",
        "    return Section_Strength[x]\n",
        "\n",
        "def decode_professor(bits):\n",
        "    x=int(''.join(map(str, bits)), 2)\n",
        "    if x>=len(Professor):\n",
        "      x=len(Professor)-1\n",
        "    return Professor[x]\n",
        "\n",
        "def decode_day(bits):\n",
        "    x=int(''.join(map(str, bits)), 2)\n",
        "    if x>=len(Days):\n",
        "      x=len(Days)-1\n",
        "    return Days[x]\n",
        "\n",
        "def decode_timeslot(bits):\n",
        "    x=int(''.join(map(str, bits)), 2)\n",
        "    if x>=len(TimeSlots):\n",
        "      x=len(TimeSlots)-1\n",
        "    return TimeSlots[x]\n",
        "\n",
        "def decode_room(bits):\n",
        "    x=int(''.join(map(str, bits)), 2)\n",
        "    if x>=len(Room):\n",
        "      x=len(Room)-1\n",
        "    return Room[x]\n",
        "\n",
        "def decode_room_size(bits):\n",
        "    x=int(''.join(map(str, bits)), 2)\n",
        "    if x>=len(Room_size):\n",
        "      x=len(Room_size)-1\n",
        "    return Room_size[x]"
      ],
      "metadata": {
        "id": "EbSf2UOzWB0a"
      },
      "execution_count": null,
      "outputs": []
    },
    {
      "cell_type": "code",
      "source": [
        "#Hard Soft Constraints fitness\n",
        "def count_overlapping_classes(timetable):\n",
        "    count = 0\n",
        "    rooms = set()\n",
        "    for course_schedule in timetable:\n",
        "        for schedule in course_schedule:\n",
        "            if(schedule.FirstLecture_room,schedule.FirstLecture_day,schedule.FirstLecture_timeslot) in rooms:\n",
        "              count+=10\n",
        "            else:\n",
        "              rooms.add((schedule.FirstLecture_room,schedule.FirstLecture_day,schedule.FirstLecture_timeslot))\n",
        "            if(schedule.SeconedLecture_room,schedule.SeconedLecture_day,schedule.SeconedLecture_timeslot) in rooms:\n",
        "              count+=10\n",
        "            else:\n",
        "              rooms.add((schedule.SeconedLecture_room,schedule.SeconedLecture_day,schedule.SeconedLecture_timeslot))\n",
        "            #print(rooms)\n",
        "    return count\n",
        "\n",
        "def count_overlapping_section_size(timetable):\n",
        "    count = 0\n",
        "    for course_schedule in timetable:\n",
        "        for schedule in course_schedule:\n",
        "            if schedule.FirstLecture_size<schedule.Section_Strength:\n",
        "              count+=10\n",
        "            if schedule.SeconedLecture_size<schedule.Section_Strength:\n",
        "              count+=10\n",
        "    return count\n",
        "\n",
        "def count_overlapping_professor_schedule(timetable):\n",
        "    count = 0\n",
        "    prof = set()\n",
        "    for course_schedule in timetable:\n",
        "        for schedule in course_schedule:\n",
        "            if(schedule.Professor,schedule.FirstLecture_day,schedule.FirstLecture_timeslot) in prof:\n",
        "              count+=10\n",
        "            else:\n",
        "              prof.add((schedule.Professor,schedule.FirstLecture_day,schedule.FirstLecture_timeslot))\n",
        "            if(schedule.Professor,schedule.SeconedLecture_day,schedule.SeconedLecture_timeslot) in prof:\n",
        "              count+=10\n",
        "            else:\n",
        "              prof.add((schedule.Professor,schedule.SeconedLecture_day,schedule.SeconedLecture_timeslot))\n",
        "            #print(prof)\n",
        "    return count\n",
        "\n",
        "def count_overlapping_section_rooms(timetable):\n",
        "    count = 0\n",
        "    section = set()\n",
        "    for course_schedule in timetable:\n",
        "        for schedule in course_schedule:\n",
        "            if(schedule.Section,schedule.FirstLecture_day,schedule.FirstLecture_timeslot) in section:\n",
        "              count+=10\n",
        "            else:\n",
        "              section.add((schedule.Section,schedule.FirstLecture_day,schedule.FirstLecture_timeslot))\n",
        "            if(schedule.Section,schedule.SeconedLecture_day,schedule.SeconedLecture_timeslot) in section:\n",
        "              count+=10\n",
        "            else:\n",
        "              section.add((schedule.Section,schedule.SeconedLecture_day,schedule.SeconedLecture_timeslot))\n",
        "            #print(section)\n",
        "    return count\n",
        "\n",
        "def count_overlapping_room_sections(timetable):\n",
        "    count = 0\n",
        "    clashes = set()\n",
        "    for course_schedule in timetable:\n",
        "        for schedule in course_schedule:\n",
        "            if(schedule.FirstLecture_room,schedule.FirstLecture_day,schedule.FirstLecture_timeslot) in clashes:\n",
        "              count+=10\n",
        "            else:\n",
        "              clashes.add((schedule.FirstLecture_room,schedule.FirstLecture_day,schedule.FirstLecture_timeslot))\n",
        "            if(schedule.SeconedLecture_room,schedule.SeconedLecture_day,schedule.SeconedLecture_timeslot) in clashes:\n",
        "              count+=10\n",
        "            else:\n",
        "              clashes.add((schedule.SeconedLecture_room,schedule.SeconedLecture_day,schedule.SeconedLecture_timeslot))\n",
        "            #print(clashes)\n",
        "    return count\n",
        "\n",
        "def count_professor_courses(timetable):\n",
        "    count = 0\n",
        "    profs = set()\n",
        "    for course_schedule in timetable:\n",
        "        for schedule in course_schedule:\n",
        "            if(schedule.Professor,schedule.Course) in profs:\n",
        "              count+=1\n",
        "            else:\n",
        "              profs.add((schedule.Professor,schedule.Course))\n",
        "            #print(profs)\n",
        "    if len(profs)>3:\n",
        "      return len(profs)\n",
        "    else:\n",
        "      return 0\n",
        "\n",
        "def count_section_courses(timetable):\n",
        "    count = 0\n",
        "    scour = set()\n",
        "    for course_schedule in timetable:\n",
        "        for schedule in course_schedule:\n",
        "            if(schedule.Section,schedule.Course) in scour:\n",
        "              count+=1\n",
        "            else:\n",
        "              scour.add((schedule.Section,schedule.Course))\n",
        "            #print(scour)\n",
        "    if len(scour)>5:\n",
        "      return len(scour)\n",
        "    else:\n",
        "      return 0\n",
        "\n",
        "def count_adjacent_day_lectures(timetable):\n",
        "    count = 0\n",
        "    for course_schedule in timetable:\n",
        "        for schedule in course_schedule:\n",
        "            if abs(Days.index(schedule.FirstLecture_day)- Days.index(schedule.SeconedLecture_day))<=1:\n",
        "              count+=10\n",
        "    return count\n",
        "\n",
        "def count_non_consecutive_lab_lectures(timetable):\n",
        "\n",
        "    count = 0\n",
        "    for course_schedule in timetable:\n",
        "        for schedule in course_schedule:\n",
        "            if schedule.Typea == \"Lab\":\n",
        "              if TimeSlots.index(schedule.FirstLecture_timeslot) == len(TimeSlots) - 1:\n",
        "                  count += 10\n",
        "            else:\n",
        "              for s in timetable:\n",
        "                for ss in s:\n",
        "                  if ss != schedule:\n",
        "                        if abs(TimeSlots.index(schedule.FirstLecture_timeslot) - TimeSlots.index(ss.FirstLecture_timeslot)) <= 1 and schedule.FirstLecture_day == ss.FirstLecture_day and schedule.FirstLecture_room == ss.FirstLecture_room:\n",
        "                            count += 10\n",
        "                        if abs(TimeSlots.index(schedule.FirstLecture_timeslot) - TimeSlots.index(ss.SeconedLecture_timeslot)) <= 1 and schedule.FirstLecture_day == ss.SeconedLecture_day and schedule.FirstLecture_room == ss.SeconedLecture_room:\n",
        "                            count += 10\n",
        "                        if abs(TimeSlots.index(schedule.SeconedLecture_timeslot) - TimeSlots.index(ss.FirstLecture_timeslot)) <= 1 and schedule.SeconedLecture_day == ss.FirstLecture_day and schedule.SeconedLecture_room == ss.FirstLecture_room:\n",
        "                            count += 10\n",
        "                        if abs(TimeSlots.index(schedule.SeconedLecture_timeslot) - TimeSlots.index(ss.SeconedLecture_timeslot)) <= 1 and schedule.SeconedLecture_day == ss.SeconedLecture_day and schedule.SeconedLecture_room == ss.SeconedLecture_room:\n",
        "                            count += 10\n",
        "    return count\n",
        "\n",
        "def is_afternoon(timetable):\n",
        "  count=0\n",
        "  for course_schedule in timetable:\n",
        "        for schedule in course_schedule:\n",
        "            if schedule.Typea == \"Lab\":\n",
        "              if TimeSlots.index(schedule.FirstLecture_timeslot)<4:\n",
        "                count+=1\n",
        "              if TimeSlots.index(schedule.SeconedLecture_timeslot)<4:\n",
        "                count+=1\n",
        "  return count\n",
        "\n",
        "def is_same(timetable):\n",
        "  count=0\n",
        "  for course_schedule in timetable:\n",
        "        for schedule in course_schedule:\n",
        "          if schedule.FirstLecture_room!=schedule.SeconedLecture_room:\n",
        "            count+=1\n",
        "  return count\n"
      ],
      "metadata": {
        "id": "eHlRUfPMv5Nt"
      },
      "execution_count": null,
      "outputs": []
    },
    {
      "cell_type": "code",
      "source": [
        "#this will call all hard soft fitness fun\n",
        "def fitness(individual):\n",
        "\n",
        "  #for individual in gene:\n",
        "  #  timetable = decode_timetable(individual)\n",
        "  #  print(\"Timetable for Individual:\")\n",
        "  #  print(individual)\n",
        "  #  for course_schedule in timetable:\n",
        "  #      for schedule in course_schedule:\n",
        "  #          print(schedule.__dict__)\n",
        "  total_score = 0\n",
        "  index=0\n",
        "  timetable = decode_timetable(individual)\n",
        "  score = 0\n",
        "  over_class=count_overlapping_classes(timetable)\n",
        "  if over_class>0:\n",
        "    score += over_class\n",
        "  over_sec=count_overlapping_section_size(timetable)\n",
        "  if over_sec>0:\n",
        "    score += over_sec\n",
        "  prof=count_overlapping_professor_schedule(timetable)\n",
        "  if prof>0:\n",
        "    score += prof\n",
        "  over_s=count_overlapping_section_rooms(timetable)\n",
        "  if over_s>0:\n",
        "    score += over_s\n",
        "  over_r=count_overlapping_room_sections(timetable)\n",
        "  if over_r>0:\n",
        "    score += over_r\n",
        "  prof_count=count_professor_courses(timetable)\n",
        "  if prof_count>0:\n",
        "    score += 10\n",
        "  section_cours=count_section_courses(timetable)\n",
        "  if section_cours>0:\n",
        "    score += 10\n",
        "  adj_day=count_adjacent_day_lectures(timetable)\n",
        "  if adj_day>0:\n",
        "    score += adj_day\n",
        "  adj_la=count_non_consecutive_lab_lectures(timetable)\n",
        "  if adj_la>0:\n",
        "    score += adj_la\n",
        "  soft_after=is_afternoon(timetable)\n",
        "  if soft_after>0:\n",
        "    score += soft_after\n",
        "  soft_same_class=is_same(timetable)\n",
        "  if soft_same_class>0:\n",
        "    score += soft_same_class\n",
        "  total_score += score\n",
        "  index+=1\n",
        "\n",
        "  return total_score"
      ],
      "metadata": {
        "id": "w-2vBJGySo8v"
      },
      "execution_count": null,
      "outputs": []
    },
    {
      "cell_type": "code",
      "source": [
        "#It works exactly as foundation code but will compete with 50\n",
        "def selection(pop, scores, k=50):\n",
        "    pop_sorted=pop.copy()\n",
        "    selection_ix = random.randint(0, len(pop_sorted) - 1)\n",
        "    for _ in range(k - 1):\n",
        "        ix = random.randint(0, len(pop) - 1)\n",
        "        if scores[ix] < scores[selection_ix]:\n",
        "            selection_ix = ix\n",
        "\n",
        "    return pop_sorted[selection_ix]"
      ],
      "metadata": {
        "id": "EZHzD-knHuxX"
      },
      "execution_count": null,
      "outputs": []
    },
    {
      "cell_type": "code",
      "source": [
        "#Uniform crossover\n",
        "def crossover(p1, p2, r_cross):\n",
        "    c1, c2 = p1.copy(), p2.copy()\n",
        "\n",
        "    for i in range(len(p1)):\n",
        "        if random.random() < r_cross:\n",
        "            c1[i], c2[i] = p2[i], p1[i]\n",
        "\n",
        "    return [c1, c2]"
      ],
      "metadata": {
        "id": "slGBuAhWLnZ0"
      },
      "execution_count": null,
      "outputs": []
    },
    {
      "cell_type": "code",
      "source": [
        "#First made copy so it donot change original gene\n",
        "def mutation(bitstring, r_mut):\n",
        "    mutated_bitstring = [individual.copy() for individual in bitstring]\n",
        "    for individual in mutated_bitstring:\n",
        "        for i in range(len(individual)):\n",
        "            if random.random() < r_mut:\n",
        "                individual[i] = 1 - individual[i]\n",
        "    return mutated_bitstring"
      ],
      "metadata": {
        "id": "p_tdn1SyQOcq"
      },
      "execution_count": null,
      "outputs": []
    },
    {
      "cell_type": "code",
      "source": [
        "def elitism(p1,p2,r_cross):\n",
        "  c1, c2 = p1.copy(), p2.copy()\n",
        "\n",
        "  for i in range(len(p1)):\n",
        "      if random.random() < r_cross:\n",
        "          c1[i], c2[i] = p2[i], p1[i]\n",
        "\n",
        "  return [c1, c2]"
      ],
      "metadata": {
        "id": "5J1DvSZpxff6"
      },
      "execution_count": null,
      "outputs": []
    },
    {
      "cell_type": "code",
      "source": [
        "#Calculating total number of bits to generate chromosone\n",
        "total_bits_req=Course_len+Lecture_len+Section_len+Section_Streng_len+Professor_len+Days_len+Timeslot_len+Room_len+Room_siz_len+Days_len+Timeslot_len+Room_len+Room_siz_len\n",
        "print(total_bits_req)\n",
        "#[[[chromosone],[chromosone]]->timetable]\n",
        "pop = [[[random.randint(0, 1) for _ in range(total_bits_req)] for _ in range(len(Section)*2)] for _ in range(100)]"
      ],
      "metadata": {
        "colab": {
          "base_uri": "https://localhost:8080/"
        },
        "id": "5EeXFxlXpa2i",
        "outputId": "cb2dc5db-e4c5-451d-96d4-f4ce3a29130c"
      },
      "execution_count": null,
      "outputs": [
        {
          "output_type": "stream",
          "name": "stdout",
          "text": [
            "36\n"
          ]
        }
      ]
    },
    {
      "cell_type": "code",
      "source": [
        "import multiprocessing\n",
        "\n",
        "def calculate_fitness_score(args):\n",
        "    individual, index = args\n",
        "    return index, fitness(individual)\n",
        "\n",
        "p=sorted(pop,key=lambda i:fitness(i))\n",
        "for i in p:\n",
        "  print(fitness(i))\n",
        "print(\"==============\")\n",
        "index_=0\n",
        "while index_<300:\n",
        "  pool = multiprocessing.Pool(processes=multiprocessing.cpu_count())\n",
        "\n",
        "  score = [0] * 100\n",
        "  for index, scores in pool.imap_unordered(calculate_fitness_score, [(p[i], i) for i in range(100)]):\n",
        "      score[index] = scores\n",
        "\n",
        "  pool.close()\n",
        "  pool.join()\n",
        "  print(index_,score[0])\n",
        "  print(\"=================\")\n",
        "  if score[0]<1:\n",
        "    print(\"sol found\")\n",
        "    break\n",
        "  else:\n",
        "    selected_parents=[selection(p,score,k=50) for _ in range(2) ]\n",
        "    offspring1,offspring2=crossover(selected_parents[0],selected_parents[1],0.6)\n",
        "    offspring1=mutation(offspring1,0.9)\n",
        "    offspring2=mutation(offspring2,0.9)\n",
        "    p.append(offspring1)\n",
        "    p.append(offspring2)\n",
        "    p=sorted(p,key=lambda i:fitness(i))\n",
        "    p=p[0:100]\n",
        "  index_+=1\n",
        "print(p[0])\n",
        "timetable = decode_timetable(p[0])\n",
        "print(\"Timetable for Individual:\")\n",
        "for course_schedule in timetable:\n",
        "    for schedule in course_schedule:\n",
        "        print(schedule.__dict__)"
      ],
      "metadata": {
        "id": "jKu4px6TpDb4"
      },
      "execution_count": null,
      "outputs": []
    },
    {
      "cell_type": "code",
      "source": [],
      "metadata": {
        "id": "vXNNmKhEkoL7"
      },
      "execution_count": null,
      "outputs": []
    }
  ]
}